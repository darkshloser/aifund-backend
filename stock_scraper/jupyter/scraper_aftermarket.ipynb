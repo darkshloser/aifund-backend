{
 "cells": [
  {
   "cell_type": "markdown",
   "id": "48be81bd-ed3b-45ca-8261-78165ace2b19",
   "metadata": {},
   "source": [
    "# Import necessary libraries"
   ]
  },
  {
   "cell_type": "code",
   "execution_count": 17,
   "id": "edf6182a-0c66-438a-a1ad-b07cd61fbef2",
   "metadata": {},
   "outputs": [],
   "source": [
    "import time\n",
    "from selenium import webdriver\n",
    "from selenium.webdriver.chrome.service import Service as ChromeService\n",
    "from selenium.webdriver.support import expected_conditions as EC\n",
    "from selenium.webdriver.common.by import By\n",
    "from webdriver_manager.chrome import ChromeDriverManager\n",
    "from selenium.webdriver.support.ui import WebDriverWait\n",
    "from bs4 import BeautifulSoup"
   ]
  },
  {
   "cell_type": "markdown",
   "id": "ef46c70b-8e8d-4e75-8983-98d8debc75da",
   "metadata": {},
   "source": [
    "# Set up Selenium WebDriver"
   ]
  },
  {
   "cell_type": "code",
   "execution_count": 18,
   "id": "6de97efa-7181-4a7f-a994-d552cd2fd5c0",
   "metadata": {},
   "outputs": [],
   "source": [
    "options = webdriver.ChromeOptions()\n",
    "# options.add_argument('--headless')\n",
    "options.add_argument('--no-sandbox')\n",
    "options.add_argument('--disable-dev-shm-usage')\n",
    "\n",
    "driver = webdriver.Chrome(service=ChromeService(ChromeDriverManager().install()), options=options)"
   ]
  },
  {
   "cell_type": "markdown",
   "id": "63ab793c-4f9f-4fe2-ae2c-f1f5110a3ab6",
   "metadata": {},
   "source": [
    "# Load the page"
   ]
  },
  {
   "cell_type": "code",
   "execution_count": 19,
   "id": "49bf8639-6c62-41b8-be72-07af8e101ca1",
   "metadata": {},
   "outputs": [],
   "source": [
    "url = 'https://stockanalysis.com/markets/afterhours/gainers/'\n",
    "driver.get(url)\n",
    "driver.implicitly_wait(10)  # Wait for JavaScript to render"
   ]
  },
  {
   "cell_type": "markdown",
   "id": "c5ffe44e-5441-4bf1-90a4-02e858e8a5b7",
   "metadata": {},
   "source": [
    "# Get page source"
   ]
  },
  {
   "cell_type": "code",
   "execution_count": 20,
   "id": "6eb74569-d08f-423d-a520-154a31aee0b9",
   "metadata": {},
   "outputs": [],
   "source": [
    "html = driver.page_source"
   ]
  },
  {
   "cell_type": "markdown",
   "id": "67146188-8dc9-46fc-9c33-478f953fe264",
   "metadata": {},
   "source": [
    "# Parse HTML with BeautifulSoup"
   ]
  },
  {
   "cell_type": "code",
   "execution_count": 21,
   "id": "c85bb85c-ce38-497f-b4f7-d500b5d62834",
   "metadata": {},
   "outputs": [],
   "source": [
    "soup = BeautifulSoup(html, 'html.parser')"
   ]
  },
  {
   "cell_type": "markdown",
   "id": "a8f27322-8b67-4750-aa8c-789d6a75b4fd",
   "metadata": {},
   "source": [
    "# Find the table body"
   ]
  },
  {
   "cell_type": "code",
   "execution_count": 22,
   "id": "a516c991-517a-441b-8822-911b33ed11af",
   "metadata": {},
   "outputs": [],
   "source": [
    "tbody = soup.find('tbody')"
   ]
  },
  {
   "cell_type": "markdown",
   "id": "cb5d95c9-0090-4f34-ab08-c6b8183df56f",
   "metadata": {},
   "source": [
    "# Get all rows in the table body"
   ]
  },
  {
   "cell_type": "code",
   "execution_count": 23,
   "id": "76e49ff9-d208-4e43-a1bf-ee68cc9e20e7",
   "metadata": {},
   "outputs": [],
   "source": [
    "rows = tbody.find_all('tr', class_='svelte-eurwtr')\n"
   ]
  },
  {
   "cell_type": "code",
   "execution_count": 24,
   "id": "fd9c4d66-44d3-4363-9fa5-28cba219affb",
   "metadata": {},
   "outputs": [
    {
     "name": "stdout",
     "output_type": "stream",
     "text": [
      "['1', 'CSTE', 'Caesarstone Ltd.', '34.44%', '7.69', '5.72', '197.55M']\n",
      "['2', 'SLAM', 'Slam Corp.', '27.98%', '14.27', '11.15', '261.50M']\n",
      "['3', 'MOLN', 'Molecular Partners AG', '21.51%', '8.87', '7.30', '226.14M']\n",
      "['4', 'AIRS', 'AirSculpt Technologies, Inc.', '20.05%', '5.27', '4.39', '252.73M']\n",
      "['5', 'TPIC', 'TPI Composites, Inc.', '19.22%', '4.28', '3.59', '170.41M']\n",
      "['6', 'IOBT', 'IO Biotech, Inc.', '18.85%', '1.45', '1.22', '80.37M']\n",
      "['7', 'EDSA', 'Edesa Biotech, Inc.', '18.15%', '5.89', '4.99', '16.21M']\n",
      "['8', 'SAIA', 'Saia, Inc.', '17.99%', '452.18', '383.24', '10.19B']\n",
      "['9', 'ZONE', 'CleanCore Solutions, Inc.', '17.98%', '2.10', '1.78', '15.55M']\n",
      "['10', 'ZIMV', 'ZimVie Inc.', '17.92%', '20.40', '17.30', '472.09M']\n",
      "['11', 'CAPT', 'Captivision Inc.', '17.65%', '2.00', '1.70', '49.35M']\n",
      "['12', 'AMST', 'Amesite Inc.', '17.62%', '2.97', '2.53', '6.42M']\n",
      "['13', 'CRGO', 'Freightos Limited', '17.30%', '2.00', '1.71', '81.50M']\n",
      "['14', 'ASRV', 'AmeriServ Financial, Inc.', '16.74%', '2.79', '2.39', '39.48M']\n",
      "['15', 'ATNF', '180 Life Sciences Corp.', '16.40%', '2.20', '1.89', '1.79M']\n",
      "['16', 'SNES', 'SenesTech, Inc.', '15.46%', '5.08', '4.40', '2.22M']\n",
      "['17', 'IPSC', 'Century Therapeutics, Inc.', '15.31%', '2.26', '1.96', '165.62M']\n",
      "['18', 'KTTA', 'Pasithea Therapeutics Corp.', '15.17%', '5.77', '5.01', '5.22M']\n",
      "['19', 'GNLX', 'Genelux Corporation', '15.03%', '1.99', '1.73', '59.43M']\n",
      "['20', 'ULY', 'Urgent.ly Inc.', '14.79%', '1.63', '1.42', '19.06M']\n"
     ]
    }
   ],
   "source": [
    "try:\n",
    "    # Wait until the button container is visible\n",
    "    wait = WebDriverWait(driver, 10)\n",
    "    controls_btn = wait.until(\n",
    "        EC.element_to_be_clickable((By.CLASS_NAME, 'controls-btn'))\n",
    "    )\n",
    "    controls_btn.click()\n",
    "    # Wait until the '50 Rows' button in the dropdown is visible and clickable, then click it\n",
    "    button_50_rows = wait.until(\n",
    "        EC.element_to_be_clickable((By.XPATH, \"//button[@title='Show 50 Rows']\"))\n",
    "    )\n",
    "    button_50_rows.click()\n",
    "\n",
    "    time.sleep(10)\n",
    "\n",
    "    # Scrape the rows\n",
    "    # rows = driver.find_elements(By.CSS_SELECTOR, 'table tbody tr')  # Adjust selector based on your table's structure\n",
    "    rows = tbody.find_all('tr', class_='svelte-eurwtr')\n",
    "    for row in rows:\n",
    "        # Process each row (e.g., extract text, attributes, etc.)\n",
    "        # print(row.text)\n",
    "        columns = row.find_all('td')\n",
    "        data = [col.text.strip() for col in columns]\n",
    "        print(data)\n",
    "finally:\n",
    "    driver.quit()"
   ]
  },
  {
   "cell_type": "code",
   "execution_count": null,
   "id": "eb7924c6-89b5-4fb0-a8f5-0962ef8af240",
   "metadata": {},
   "outputs": [],
   "source": []
  }
 ],
 "metadata": {
  "kernelspec": {
   "display_name": "Python 3 (ipykernel)",
   "language": "python",
   "name": "python3"
  },
  "language_info": {
   "codemirror_mode": {
    "name": "ipython",
    "version": 3
   },
   "file_extension": ".py",
   "mimetype": "text/x-python",
   "name": "python",
   "nbconvert_exporter": "python",
   "pygments_lexer": "ipython3",
   "version": "3.11.0rc1"
  }
 },
 "nbformat": 4,
 "nbformat_minor": 5
}
