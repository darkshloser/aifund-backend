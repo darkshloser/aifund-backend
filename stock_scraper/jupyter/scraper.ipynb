{
 "cells": [
  {
   "cell_type": "markdown",
   "id": "48be81bd-ed3b-45ca-8261-78165ace2b19",
   "metadata": {},
   "source": [
    "# Import necessary libraries"
   ]
  },
  {
   "cell_type": "code",
   "execution_count": 106,
   "id": "edf6182a-0c66-438a-a1ad-b07cd61fbef2",
   "metadata": {},
   "outputs": [],
   "source": [
    "import time\n",
    "from selenium import webdriver\n",
    "from selenium.webdriver.chrome.service import Service as ChromeService\n",
    "from selenium.webdriver.support import expected_conditions as EC\n",
    "from selenium.webdriver.common.by import By\n",
    "from webdriver_manager.chrome import ChromeDriverManager\n",
    "from selenium.webdriver.support.ui import WebDriverWait\n",
    "from bs4 import BeautifulSoup"
   ]
  },
  {
   "cell_type": "markdown",
   "id": "ef46c70b-8e8d-4e75-8983-98d8debc75da",
   "metadata": {},
   "source": [
    "# Set up Selenium WebDriver"
   ]
  },
  {
   "cell_type": "code",
   "execution_count": 107,
   "id": "6de97efa-7181-4a7f-a994-d552cd2fd5c0",
   "metadata": {},
   "outputs": [],
   "source": [
    "options = webdriver.ChromeOptions()\n",
    "# options.add_argument('--headless')\n",
    "options.add_argument('--no-sandbox')\n",
    "options.add_argument('--disable-dev-shm-usage')\n",
    "\n",
    "driver = webdriver.Chrome(service=ChromeService(ChromeDriverManager().install()), options=options)"
   ]
  },
  {
   "cell_type": "markdown",
   "id": "63ab793c-4f9f-4fe2-ae2c-f1f5110a3ab6",
   "metadata": {},
   "source": [
    "# Load the page"
   ]
  },
  {
   "cell_type": "code",
   "execution_count": 108,
   "id": "49bf8639-6c62-41b8-be72-07af8e101ca1",
   "metadata": {},
   "outputs": [],
   "source": [
    "url = 'https://stockanalysis.com/markets/premarket/gainers/'\n",
    "driver.get(url)\n",
    "driver.implicitly_wait(10)  # Wait for JavaScript to render"
   ]
  },
  {
   "cell_type": "markdown",
   "id": "c5ffe44e-5441-4bf1-90a4-02e858e8a5b7",
   "metadata": {},
   "source": [
    "# Get page source"
   ]
  },
  {
   "cell_type": "code",
   "execution_count": 109,
   "id": "6eb74569-d08f-423d-a520-154a31aee0b9",
   "metadata": {},
   "outputs": [],
   "source": [
    "html = driver.page_source"
   ]
  },
  {
   "cell_type": "markdown",
   "id": "67146188-8dc9-46fc-9c33-478f953fe264",
   "metadata": {},
   "source": [
    "# Parse HTML with BeautifulSoup"
   ]
  },
  {
   "cell_type": "code",
   "execution_count": 110,
   "id": "c85bb85c-ce38-497f-b4f7-d500b5d62834",
   "metadata": {},
   "outputs": [],
   "source": [
    "soup = BeautifulSoup(html, 'html.parser')"
   ]
  },
  {
   "cell_type": "markdown",
   "id": "a8f27322-8b67-4750-aa8c-789d6a75b4fd",
   "metadata": {},
   "source": [
    "# Find the table body"
   ]
  },
  {
   "cell_type": "code",
   "execution_count": 111,
   "id": "a516c991-517a-441b-8822-911b33ed11af",
   "metadata": {},
   "outputs": [],
   "source": [
    "tbody = soup.find('tbody')"
   ]
  },
  {
   "cell_type": "markdown",
   "id": "cb5d95c9-0090-4f34-ab08-c6b8183df56f",
   "metadata": {},
   "source": [
    "# Get all rows in the table body"
   ]
  },
  {
   "cell_type": "code",
   "execution_count": 112,
   "id": "76e49ff9-d208-4e43-a1bf-ee68cc9e20e7",
   "metadata": {},
   "outputs": [],
   "source": [
    "rows = tbody.find_all('tr', class_='svelte-eurwtr')"
   ]
  },
  {
   "cell_type": "code",
   "execution_count": 113,
   "id": "fd9c4d66-44d3-4363-9fa5-28cba219affb",
   "metadata": {},
   "outputs": [
    {
     "name": "stdout",
     "output_type": "stream",
     "text": [
      "1 WINT Windtree Therapeutics, Inc. 166.26% 8.76 3.29 4.91M\n",
      "2 CREV Carbon Revolution Public Limited 66.78% 10.29 6.17 17.06M\n",
      "3 EVRI Everi Holdings Inc. 41.90% 12.97 9.14 1.08B\n",
      "4 CVM CEL-SCI Corporation 36.36% 1.65 1.21 70.95M\n",
      "5 COUR Coursera, Inc. 30.63% 9.68 7.41 1.67B\n",
      "6 RGC Regencell Bioscience Holdings Limited 27.88% 11.65 9.11 159.93M\n",
      "7 MEDS TRxADE HEALTH, Inc. 20.55% 14.02 11.63 17.99M\n",
      "8 NUZE NuZee, Inc. 18.54% 3.58 3.02 8.98M\n",
      "9 PNBK Patriot National Bancorp, Inc. 18.13% 1.89 1.60 6.88M\n",
      "10 UCTT Ultra Clean Holdings, Inc. 17.22% 52.90 45.13 2.06B\n",
      "11 HNRA HNR Acquisition Corp 16.67% 3.01 2.58 14.95M\n",
      "12 ALRM Alarm.com Holdings, Inc. 16.38% 80.00 68.74 3.48B\n",
      "13 BRTX BioRestorative Therapies, Inc. 16.17% 1.94 1.67 10.97M\n",
      "14 IGT International Game Technology PLC 16.07% 23.40 20.16 4.79B\n",
      "15 ZONE CleanCore Solutions, Inc. 14.93% 2.31 2.01 15.30M\n",
      "16 DECK Deckers Outdoor Corporation 13.24% 952.90 841.50 22.73B\n",
      "17 CDZI Cadiz Inc. 13.10% 3.80 3.36 228.46M\n",
      "18 KARO Karooooo Ltd. 12.85% 32.50 28.80 1.07B\n",
      "19 TK Teekay Corporation 12.56% 9.50 8.44 773.09M\n",
      "20 RR Richtech Robotics Inc. 12.39% 1.27 1.13 82.80M\n",
      "21 DSP Viant Technology Inc. 12.16% 13.28 11.84 770.19M\n",
      "22 MHK Mohawk Industries, Inc. 12.06% 150.72 134.50 10.26B\n",
      "23 CHTR Charter Communications, Inc. 12.05% 353.22 315.23 52.95B\n",
      "24 CMCL Caledonia Mining Corporation Plc 11.92% 13.15 11.75 225.60M\n",
      "25 ESLA Estrella Immunopharma, Inc. 11.70% 1.91 1.71 80.39M\n",
      "26 NCRA Nocera, Inc. 11.65% 1.15 1.03 13.69M\n",
      "27 MIST Milestone Pharmaceuticals Inc. 11.41% 1.66 1.49 80.44M\n",
      "28 CMAX CareMax, Inc. 11.17% 6.27 5.64 24.30M\n",
      "29 INDP Indaptus Therapeutics, Inc. 11.11% 2.50 2.25 17.55M\n",
      "30 NWL Newell Brands Inc. 11.04% 7.04 6.34 3.70B\n",
      "31 MOLN Molecular Partners AG 11.02% 6.55 5.90 210.73M\n",
      "32 AHG Akso Health Group 11.00% 1.11 1.00 23.64M\n",
      "33 OCEA Ocean Biomedical, Inc. 10.71% 1.24 1.12 44.35M\n",
      "34 PMNT Perfect Moment Ltd. 10.55% 2.20 1.99 32.56M\n",
      "35 FTEK Fuel Tech, Inc. 9.71% 1.13 1.03 31.60M\n",
      "36 NWGL Nature Wood Group Limited 9.66% 2.49 2.27 284.71M\n",
      "37 SMXT Solarmax Technology Inc. 9.65% 4.09 3.73 173.18M\n",
      "38 AVTR Avantor, Inc. 9.55% 25.00 22.82 17.39B\n",
      "39 MIGI Mawson Infrastructure Group, Inc. 9.30% 1.41 1.29 22.77M\n",
      "40 INBS Intelligent Bio Solutions Inc. 9.22% 1.54 1.41 4.68M\n",
      "41 AEYE AudioEye, Inc. 9.17% 21.44 19.64 316.52M\n",
      "42 RILY B. Riley Financial, Inc. 9.02% 18.25 16.74 561.07M\n",
      "43 DYAI Dyadic International, Inc. 9.01% 1.54 1.41 45.32M\n",
      "44 KITT Nauticus Robotics, Inc. 8.95% 3.53 3.24 11.84M\n",
      "45 QUIK QuickLogic Corporation 8.71% 11.99 11.03 159.82M\n",
      "46 HUDI Huadi International Group Co., Ltd. 8.51% 2.55 2.35 43.49M\n",
      "47 FRD Friedman Industries, Incorporated 8.46% 18.99 17.51 120.44M\n",
      "48 RYDE Ryde Group Ltd. 8.45% 7.19 6.63 117.31M\n",
      "49 CMMB Chemomab Therapeutics Ltd. 8.40% 1.29 1.19 16.77M\n",
      "50 ALLT Allot Ltd. 8.39% 3.36 3.10 119.17M\n"
     ]
    }
   ],
   "source": [
    "try:\n",
    "    # Wait until the button container is visible\n",
    "    wait = WebDriverWait(driver, 10)\n",
    "    controls_btn = wait.until(\n",
    "        EC.element_to_be_clickable((By.CLASS_NAME, 'controls-btn'))\n",
    "    )\n",
    "    controls_btn.click()\n",
    "    # Wait until the '50 Rows' button in the dropdown is visible and clickable, then click it\n",
    "    button_50_rows = wait.until(\n",
    "        EC.element_to_be_clickable((By.XPATH, \"//button[@title='Show 50 Rows']\"))\n",
    "    )\n",
    "    button_50_rows.click()\n",
    "\n",
    "    time.sleep(10)\n",
    "\n",
    "    # Scrape the rows\n",
    "    rows = driver.find_elements(By.CSS_SELECTOR, 'table tbody tr')  # Adjust selector based on your table's structure\n",
    "    for row in rows:\n",
    "        # Process each row (e.g., extract text, attributes, etc.)\n",
    "        print(row.text)\n",
    "finally:\n",
    "    driver.quit()"
   ]
  },
  {
   "cell_type": "code",
   "execution_count": null,
   "id": "eb7924c6-89b5-4fb0-a8f5-0962ef8af240",
   "metadata": {},
   "outputs": [],
   "source": []
  }
 ],
 "metadata": {
  "kernelspec": {
   "display_name": "Python 3 (ipykernel)",
   "language": "python",
   "name": "python3"
  },
  "language_info": {
   "codemirror_mode": {
    "name": "ipython",
    "version": 3
   },
   "file_extension": ".py",
   "mimetype": "text/x-python",
   "name": "python",
   "nbconvert_exporter": "python",
   "pygments_lexer": "ipython3",
   "version": "3.11.0rc1"
  }
 },
 "nbformat": 4,
 "nbformat_minor": 5
}
